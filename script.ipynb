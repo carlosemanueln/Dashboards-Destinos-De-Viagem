{
  "nbformat": 4,
  "nbformat_minor": 0,
  "metadata": {
    "colab": {
      "provenance": []
    },
    "kernelspec": {
      "name": "python3",
      "display_name": "Python 3"
    },
    "language_info": {
      "name": "python"
    }
  },
  "cells": [
    {
      "cell_type": "markdown",
      "source": [
        "GERANDO DADOS FICTÍCIOS"
      ],
      "metadata": {
        "id": "-YdRoObG54MW"
      }
    },
    {
      "cell_type": "code",
      "execution_count": null,
      "metadata": {
        "id": "t2_J1Zj05Ddi"
      },
      "outputs": [],
      "source": [
        "import pandas as pd\n",
        "import random\n",
        "from datetime import datetime, timedelta\n",
        "\n",
        "# Origens e Destinos\n",
        "origens = ['São Paulo', 'Rio de Janeiro', 'Belo Horizonte', 'Porto Alegre', 'Curitiba']\n",
        "destinos = ['Salvador', 'Fortaleza', 'Recife', 'Florianópolis', 'Natal']\n",
        "\n",
        "# Companhias Aéreas\n",
        "companhias = ['LATAM', 'Gol', 'Azul', 'Passaredo', 'WebJet']\n",
        "\n",
        "# Gerando Dados Simulados\n",
        "data = []\n",
        "\n",
        "for _ in range(500):\n",
        "    origem = random.choice(origens)\n",
        "    destino = random.choice(destinos)\n",
        "    companhia = random.choice(companhias)\n",
        "    passageiros = random.randint(50, 200)  # número de passageiros\n",
        "    preco_medio = round(random.uniform(150, 2000), 2)  # preço entre 150 e 2000\n",
        "    dias_anteriores = random.randint(0, 365)  # data aleatória nos últimos 365 dias\n",
        "    data_voo = (datetime.now() - timedelta(days=dias_anteriores)).strftime('%Y-%m-%d')\n",
        "\n",
        "    data.append([origem, destino, companhia, passageiros, preco_medio, data_voo])\n",
        "\n",
        "# Criando o DataFrame\n",
        "df_viagem = pd.DataFrame(data, columns=['origem', 'destino', 'companhia', 'passageiros', 'preco_medio', 'data'])\n",
        "\n",
        "df_viagem.to_csv('dados_destinos_viagem.csv', index=False)  # Salva o CSV sem o índice\n",
        "\n",
        "# Testando\n",
        "print(df_viagem.head())"
      ]
    },
    {
      "cell_type": "code",
      "source": [
        "# Baixar arquivo CSV\n",
        "from google.colab import files\n",
        "files.download('dados_destinos_viagem.csv')"
      ],
      "metadata": {
        "colab": {
          "base_uri": "https://localhost:8080/",
          "height": 17
        },
        "id": "coNfH-vK-ZdJ",
        "outputId": "8011503a-5c47-4a31-884a-5f1b08e3a889"
      },
      "execution_count": 7,
      "outputs": [
        {
          "output_type": "display_data",
          "data": {
            "text/plain": [
              "<IPython.core.display.Javascript object>"
            ],
            "application/javascript": [
              "\n",
              "    async function download(id, filename, size) {\n",
              "      if (!google.colab.kernel.accessAllowed) {\n",
              "        return;\n",
              "      }\n",
              "      const div = document.createElement('div');\n",
              "      const label = document.createElement('label');\n",
              "      label.textContent = `Downloading \"${filename}\": `;\n",
              "      div.appendChild(label);\n",
              "      const progress = document.createElement('progress');\n",
              "      progress.max = size;\n",
              "      div.appendChild(progress);\n",
              "      document.body.appendChild(div);\n",
              "\n",
              "      const buffers = [];\n",
              "      let downloaded = 0;\n",
              "\n",
              "      const channel = await google.colab.kernel.comms.open(id);\n",
              "      // Send a message to notify the kernel that we're ready.\n",
              "      channel.send({})\n",
              "\n",
              "      for await (const message of channel.messages) {\n",
              "        // Send a message to notify the kernel that we're ready.\n",
              "        channel.send({})\n",
              "        if (message.buffers) {\n",
              "          for (const buffer of message.buffers) {\n",
              "            buffers.push(buffer);\n",
              "            downloaded += buffer.byteLength;\n",
              "            progress.value = downloaded;\n",
              "          }\n",
              "        }\n",
              "      }\n",
              "      const blob = new Blob(buffers, {type: 'application/binary'});\n",
              "      const a = document.createElement('a');\n",
              "      a.href = window.URL.createObjectURL(blob);\n",
              "      a.download = filename;\n",
              "      div.appendChild(a);\n",
              "      a.click();\n",
              "      div.remove();\n",
              "    }\n",
              "  "
            ]
          },
          "metadata": {}
        },
        {
          "output_type": "display_data",
          "data": {
            "text/plain": [
              "<IPython.core.display.Javascript object>"
            ],
            "application/javascript": [
              "download(\"download_d270ca51-1e65-4edc-8896-50cb1428d45f\", \"dados_destinos_viagem.csv\", 25333)"
            ]
          },
          "metadata": {}
        }
      ]
    },
    {
      "cell_type": "markdown",
      "source": [
        "INICIANDO ANÁLISE POR GRÁFICOS:\n",
        "\n",
        "*   GRÁFICO INTERATIVO\n",
        "*   GRÁFICO DE PIZZA\n",
        "*   GRÁFICO DE BARRA\n",
        "\n",
        "\n",
        "\n",
        "\n",
        "\n",
        "\n"
      ],
      "metadata": {
        "id": "J_bI9hMz5_jo"
      }
    },
    {
      "cell_type": "markdown",
      "source": [
        "\n",
        "\n",
        "1.   GRÁFICO DE DESTINOS MAIS POPULARES (BARRA)\n",
        "\n",
        "\n"
      ],
      "metadata": {
        "id": "fGKGhAGb6we2"
      }
    },
    {
      "cell_type": "code",
      "source": [
        "import pandas as pd\n",
        "import plotly.express as px\n",
        "\n",
        "# Agrupar os dados por 'destino' e somar o número de passageiros\n",
        "df_destinos = df_viagem.groupby('destino')['passageiros'].sum().reset_index()\n",
        "\n",
        "# Criar o gráfico de barras\n",
        "fig = px.bar(df_destinos,\n",
        "             x='destino',  # Definimos 'destino' para o eixo X (horizontal)\n",
        "             y='passageiros',  # Definimos 'passageiros' para o eixo Y (vertical)\n",
        "             title='Destinos Mais Populares',  # Título do gráfico\n",
        "             labels={'destino': 'Destino', 'passageiros': 'Total de Passageiros'},  # Definindo os rótulos dos eixos\n",
        "             color='passageiros',  # Colocamos uma cor nas barras com base na quantidade de passageiros\n",
        "             color_continuous_scale='Viridis')  # Definimos uma paleta de cores para o gráfico\n",
        "fig.show()\n"
      ],
      "metadata": {
        "id": "WDXMVCog6lzB"
      },
      "execution_count": null,
      "outputs": []
    },
    {
      "cell_type": "markdown",
      "source": [
        "2. GRÁFICO DE PASSAGEIROS POR COMPANHIA (PIZZA)"
      ],
      "metadata": {
        "id": "NGD8Ekf_7Yxs"
      }
    },
    {
      "cell_type": "code",
      "source": [
        "# Agrupar os dados por 'companhia' e somar o número de passageiros\n",
        "df_companhia = df_viagem.groupby('companhia')['passageiros'].sum().reset_index()\n",
        "\n",
        "# Criar o gráfico de pizza\n",
        "fig2 = px.pie(df_companhia,\n",
        "              names='companhia',  # Definimos 'companhia' para as fatias do gráfico de pizza\n",
        "              values='passageiros',  # O tamanho de cada fatia será o número de passageiros\n",
        "              title='Passageiros por Companhia Aérea')  # Título do gráfico\n",
        "fig2.show()"
      ],
      "metadata": {
        "id": "tOwU1kYN7gzo"
      },
      "execution_count": null,
      "outputs": []
    },
    {
      "cell_type": "markdown",
      "source": [
        "3. GRÁFICO DE PASSAGEIROS POR COMPANHIA (INTERATIVO)"
      ],
      "metadata": {
        "id": "D2T5vUjL8izZ"
      }
    },
    {
      "cell_type": "code",
      "source": [
        "# Criar gráfico interativo com filtro para 'origem' e 'destino'\n",
        "fig3 = px.bar(df_viagem,\n",
        "              x='origem',  # Definimos 'origem' para o eixo X (horizontal)\n",
        "              y='passageiros',  # Definimos 'passageiros' para o eixo Y (vertical)\n",
        "              color='destino',  # A cor das barras será baseada na variável 'destino'\n",
        "              title='Passageiros por Origem e Destino',  # Título do gráfico\n",
        "              labels={'origem': 'Cidade de Origem', 'passageiros': 'Número de Passageiros'},  # Rótulos\n",
        "              hover_data=['destino'])  # Quando passar o mouse, o destino será exibido\n",
        "fig3.show()\n"
      ],
      "metadata": {
        "id": "83VeFYy48-Qs"
      },
      "execution_count": null,
      "outputs": []
    }
  ]
}
